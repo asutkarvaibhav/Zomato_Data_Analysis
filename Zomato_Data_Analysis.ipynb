{
 "cells": [
  {
   "cell_type": "code",
   "execution_count": 1,
   "id": "d096aef6",
   "metadata": {
    "_cell_guid": "b1076dfc-b9ad-4769-8c92-a6c4dae69d19",
    "_uuid": "8f2839f25d086af736a60e9eeb907d3b93b6e0e5",
    "execution": {
     "iopub.execute_input": "2024-09-23T04:50:30.215337Z",
     "iopub.status.busy": "2024-09-23T04:50:30.214776Z",
     "iopub.status.idle": "2024-09-23T04:50:30.688321Z",
     "shell.execute_reply": "2024-09-23T04:50:30.686370Z"
    },
    "papermill": {
     "duration": 0.492772,
     "end_time": "2024-09-23T04:50:30.691536",
     "exception": false,
     "start_time": "2024-09-23T04:50:30.198764",
     "status": "completed"
    },
    "tags": []
   },
   "outputs": [
    {
     "name": "stdout",
     "output_type": "stream",
     "text": [
      "/kaggle/input/zomato/zomato.csv\n"
     ]
    }
   ],
   "source": [
    "# This Python 3 environment comes with many helpful analytics libraries installed\n",
    "# It is defined by the kaggle/python Docker image: https://github.com/kaggle/docker-python\n",
    "# For example, here's several helpful packages to load\n",
    "\n",
    "import numpy as np # linear algebra\n",
    "import pandas as pd # data processing, CSV file I/O (e.g. pd.read_csv)\n",
    "\n",
    "# Input data files are available in the read-only \"../input/\" directory\n",
    "# For example, running this (by clicking run or pressing Shift+Enter) will list all files under the input directory\n",
    "\n",
    "import os\n",
    "for dirname, _, filenames in os.walk('/kaggle/input'):\n",
    "    for filename in filenames:\n",
    "        print(os.path.join(dirname, filename))\n",
    "\n",
    "# You can write up to 20GB to the current directory (/kaggle/working/) that gets preserved as output when you create a version using \"Save & Run All\" \n",
    "# You can also write temporary files to /kaggle/temp/, but they won't be saved outside of the current session"
   ]
  },
  {
   "cell_type": "code",
   "execution_count": 2,
   "id": "ada99a3f",
   "metadata": {
    "execution": {
     "iopub.execute_input": "2024-09-23T04:50:30.717649Z",
     "iopub.status.busy": "2024-09-23T04:50:30.717098Z",
     "iopub.status.idle": "2024-09-23T04:50:32.544901Z",
     "shell.execute_reply": "2024-09-23T04:50:32.543758Z"
    },
    "papermill": {
     "duration": 1.843818,
     "end_time": "2024-09-23T04:50:32.547721",
     "exception": false,
     "start_time": "2024-09-23T04:50:30.703903",
     "status": "completed"
    },
    "tags": []
   },
   "outputs": [],
   "source": [
    "#importing required libraries\n",
    "import pandas as pd\n",
    "import numpy as np\n",
    "import matplotlib.pyplot as plt\n",
    "import seaborn as sns"
   ]
  },
  {
   "cell_type": "code",
   "execution_count": 3,
   "id": "d49bf607",
   "metadata": {
    "execution": {
     "iopub.execute_input": "2024-09-23T04:50:32.573539Z",
     "iopub.status.busy": "2024-09-23T04:50:32.572967Z",
     "iopub.status.idle": "2024-09-23T04:50:46.094232Z",
     "shell.execute_reply": "2024-09-23T04:50:46.092680Z"
    },
    "papermill": {
     "duration": 13.537561,
     "end_time": "2024-09-23T04:50:46.097238",
     "exception": false,
     "start_time": "2024-09-23T04:50:32.559677",
     "status": "completed"
    },
    "tags": []
   },
   "outputs": [],
   "source": [
    "#import dataset\n",
    "df=pd.read_csv('/kaggle/input/zomato/zomato.csv')"
   ]
  },
  {
   "cell_type": "code",
   "execution_count": 4,
   "id": "50c651b5",
   "metadata": {
    "execution": {
     "iopub.execute_input": "2024-09-23T04:50:46.123739Z",
     "iopub.status.busy": "2024-09-23T04:50:46.122663Z",
     "iopub.status.idle": "2024-09-23T04:50:46.156725Z",
     "shell.execute_reply": "2024-09-23T04:50:46.155520Z"
    },
    "papermill": {
     "duration": 0.050031,
     "end_time": "2024-09-23T04:50:46.159511",
     "exception": false,
     "start_time": "2024-09-23T04:50:46.109480",
     "status": "completed"
    },
    "tags": []
   },
   "outputs": [
    {
     "data": {
      "text/html": [
       "<div>\n",
       "<style scoped>\n",
       "    .dataframe tbody tr th:only-of-type {\n",
       "        vertical-align: middle;\n",
       "    }\n",
       "\n",
       "    .dataframe tbody tr th {\n",
       "        vertical-align: top;\n",
       "    }\n",
       "\n",
       "    .dataframe thead th {\n",
       "        text-align: right;\n",
       "    }\n",
       "</style>\n",
       "<table border=\"1\" class=\"dataframe\">\n",
       "  <thead>\n",
       "    <tr style=\"text-align: right;\">\n",
       "      <th></th>\n",
       "      <th>url</th>\n",
       "      <th>address</th>\n",
       "      <th>name</th>\n",
       "      <th>online_order</th>\n",
       "      <th>book_table</th>\n",
       "      <th>rate</th>\n",
       "      <th>votes</th>\n",
       "      <th>phone</th>\n",
       "      <th>location</th>\n",
       "      <th>rest_type</th>\n",
       "      <th>dish_liked</th>\n",
       "      <th>cuisines</th>\n",
       "      <th>approx_cost(for two people)</th>\n",
       "      <th>reviews_list</th>\n",
       "      <th>menu_item</th>\n",
       "      <th>listed_in(type)</th>\n",
       "      <th>listed_in(city)</th>\n",
       "    </tr>\n",
       "  </thead>\n",
       "  <tbody>\n",
       "    <tr>\n",
       "      <th>0</th>\n",
       "      <td>https://www.zomato.com/bangalore/jalsa-banasha...</td>\n",
       "      <td>942, 21st Main Road, 2nd Stage, Banashankari, ...</td>\n",
       "      <td>Jalsa</td>\n",
       "      <td>Yes</td>\n",
       "      <td>Yes</td>\n",
       "      <td>4.1/5</td>\n",
       "      <td>775</td>\n",
       "      <td>080 42297555\\r\\n+91 9743772233</td>\n",
       "      <td>Banashankari</td>\n",
       "      <td>Casual Dining</td>\n",
       "      <td>Pasta, Lunch Buffet, Masala Papad, Paneer Laja...</td>\n",
       "      <td>North Indian, Mughlai, Chinese</td>\n",
       "      <td>800</td>\n",
       "      <td>[('Rated 4.0', 'RATED\\n  A beautiful place to ...</td>\n",
       "      <td>[]</td>\n",
       "      <td>Buffet</td>\n",
       "      <td>Banashankari</td>\n",
       "    </tr>\n",
       "    <tr>\n",
       "      <th>1</th>\n",
       "      <td>https://www.zomato.com/bangalore/spice-elephan...</td>\n",
       "      <td>2nd Floor, 80 Feet Road, Near Big Bazaar, 6th ...</td>\n",
       "      <td>Spice Elephant</td>\n",
       "      <td>Yes</td>\n",
       "      <td>No</td>\n",
       "      <td>4.1/5</td>\n",
       "      <td>787</td>\n",
       "      <td>080 41714161</td>\n",
       "      <td>Banashankari</td>\n",
       "      <td>Casual Dining</td>\n",
       "      <td>Momos, Lunch Buffet, Chocolate Nirvana, Thai G...</td>\n",
       "      <td>Chinese, North Indian, Thai</td>\n",
       "      <td>800</td>\n",
       "      <td>[('Rated 4.0', 'RATED\\n  Had been here for din...</td>\n",
       "      <td>[]</td>\n",
       "      <td>Buffet</td>\n",
       "      <td>Banashankari</td>\n",
       "    </tr>\n",
       "    <tr>\n",
       "      <th>2</th>\n",
       "      <td>https://www.zomato.com/SanchurroBangalore?cont...</td>\n",
       "      <td>1112, Next to KIMS Medical College, 17th Cross...</td>\n",
       "      <td>San Churro Cafe</td>\n",
       "      <td>Yes</td>\n",
       "      <td>No</td>\n",
       "      <td>3.8/5</td>\n",
       "      <td>918</td>\n",
       "      <td>+91 9663487993</td>\n",
       "      <td>Banashankari</td>\n",
       "      <td>Cafe, Casual Dining</td>\n",
       "      <td>Churros, Cannelloni, Minestrone Soup, Hot Choc...</td>\n",
       "      <td>Cafe, Mexican, Italian</td>\n",
       "      <td>800</td>\n",
       "      <td>[('Rated 3.0', \"RATED\\n  Ambience is not that ...</td>\n",
       "      <td>[]</td>\n",
       "      <td>Buffet</td>\n",
       "      <td>Banashankari</td>\n",
       "    </tr>\n",
       "    <tr>\n",
       "      <th>3</th>\n",
       "      <td>https://www.zomato.com/bangalore/addhuri-udupi...</td>\n",
       "      <td>1st Floor, Annakuteera, 3rd Stage, Banashankar...</td>\n",
       "      <td>Addhuri Udupi Bhojana</td>\n",
       "      <td>No</td>\n",
       "      <td>No</td>\n",
       "      <td>3.7/5</td>\n",
       "      <td>88</td>\n",
       "      <td>+91 9620009302</td>\n",
       "      <td>Banashankari</td>\n",
       "      <td>Quick Bites</td>\n",
       "      <td>Masala Dosa</td>\n",
       "      <td>South Indian, North Indian</td>\n",
       "      <td>300</td>\n",
       "      <td>[('Rated 4.0', \"RATED\\n  Great food and proper...</td>\n",
       "      <td>[]</td>\n",
       "      <td>Buffet</td>\n",
       "      <td>Banashankari</td>\n",
       "    </tr>\n",
       "    <tr>\n",
       "      <th>4</th>\n",
       "      <td>https://www.zomato.com/bangalore/grand-village...</td>\n",
       "      <td>10, 3rd Floor, Lakshmi Associates, Gandhi Baza...</td>\n",
       "      <td>Grand Village</td>\n",
       "      <td>No</td>\n",
       "      <td>No</td>\n",
       "      <td>3.8/5</td>\n",
       "      <td>166</td>\n",
       "      <td>+91 8026612447\\r\\n+91 9901210005</td>\n",
       "      <td>Basavanagudi</td>\n",
       "      <td>Casual Dining</td>\n",
       "      <td>Panipuri, Gol Gappe</td>\n",
       "      <td>North Indian, Rajasthani</td>\n",
       "      <td>600</td>\n",
       "      <td>[('Rated 4.0', 'RATED\\n  Very good restaurant ...</td>\n",
       "      <td>[]</td>\n",
       "      <td>Buffet</td>\n",
       "      <td>Banashankari</td>\n",
       "    </tr>\n",
       "  </tbody>\n",
       "</table>\n",
       "</div>"
      ],
      "text/plain": [
       "                                                 url  \\\n",
       "0  https://www.zomato.com/bangalore/jalsa-banasha...   \n",
       "1  https://www.zomato.com/bangalore/spice-elephan...   \n",
       "2  https://www.zomato.com/SanchurroBangalore?cont...   \n",
       "3  https://www.zomato.com/bangalore/addhuri-udupi...   \n",
       "4  https://www.zomato.com/bangalore/grand-village...   \n",
       "\n",
       "                                             address                   name  \\\n",
       "0  942, 21st Main Road, 2nd Stage, Banashankari, ...                  Jalsa   \n",
       "1  2nd Floor, 80 Feet Road, Near Big Bazaar, 6th ...         Spice Elephant   \n",
       "2  1112, Next to KIMS Medical College, 17th Cross...        San Churro Cafe   \n",
       "3  1st Floor, Annakuteera, 3rd Stage, Banashankar...  Addhuri Udupi Bhojana   \n",
       "4  10, 3rd Floor, Lakshmi Associates, Gandhi Baza...          Grand Village   \n",
       "\n",
       "  online_order book_table   rate  votes                             phone  \\\n",
       "0          Yes        Yes  4.1/5    775    080 42297555\\r\\n+91 9743772233   \n",
       "1          Yes         No  4.1/5    787                      080 41714161   \n",
       "2          Yes         No  3.8/5    918                    +91 9663487993   \n",
       "3           No         No  3.7/5     88                    +91 9620009302   \n",
       "4           No         No  3.8/5    166  +91 8026612447\\r\\n+91 9901210005   \n",
       "\n",
       "       location            rest_type  \\\n",
       "0  Banashankari        Casual Dining   \n",
       "1  Banashankari        Casual Dining   \n",
       "2  Banashankari  Cafe, Casual Dining   \n",
       "3  Banashankari          Quick Bites   \n",
       "4  Basavanagudi        Casual Dining   \n",
       "\n",
       "                                          dish_liked  \\\n",
       "0  Pasta, Lunch Buffet, Masala Papad, Paneer Laja...   \n",
       "1  Momos, Lunch Buffet, Chocolate Nirvana, Thai G...   \n",
       "2  Churros, Cannelloni, Minestrone Soup, Hot Choc...   \n",
       "3                                        Masala Dosa   \n",
       "4                                Panipuri, Gol Gappe   \n",
       "\n",
       "                         cuisines approx_cost(for two people)  \\\n",
       "0  North Indian, Mughlai, Chinese                         800   \n",
       "1     Chinese, North Indian, Thai                         800   \n",
       "2          Cafe, Mexican, Italian                         800   \n",
       "3      South Indian, North Indian                         300   \n",
       "4        North Indian, Rajasthani                         600   \n",
       "\n",
       "                                        reviews_list menu_item  \\\n",
       "0  [('Rated 4.0', 'RATED\\n  A beautiful place to ...        []   \n",
       "1  [('Rated 4.0', 'RATED\\n  Had been here for din...        []   \n",
       "2  [('Rated 3.0', \"RATED\\n  Ambience is not that ...        []   \n",
       "3  [('Rated 4.0', \"RATED\\n  Great food and proper...        []   \n",
       "4  [('Rated 4.0', 'RATED\\n  Very good restaurant ...        []   \n",
       "\n",
       "  listed_in(type) listed_in(city)  \n",
       "0          Buffet    Banashankari  \n",
       "1          Buffet    Banashankari  \n",
       "2          Buffet    Banashankari  \n",
       "3          Buffet    Banashankari  \n",
       "4          Buffet    Banashankari  "
      ]
     },
     "execution_count": 4,
     "metadata": {},
     "output_type": "execute_result"
    }
   ],
   "source": [
    "df.head()"
   ]
  },
  {
   "cell_type": "code",
   "execution_count": 5,
   "id": "30072977",
   "metadata": {
    "execution": {
     "iopub.execute_input": "2024-09-23T04:50:46.185748Z",
     "iopub.status.busy": "2024-09-23T04:50:46.185300Z",
     "iopub.status.idle": "2024-09-23T04:50:46.192879Z",
     "shell.execute_reply": "2024-09-23T04:50:46.191732Z"
    },
    "papermill": {
     "duration": 0.023399,
     "end_time": "2024-09-23T04:50:46.195269",
     "exception": false,
     "start_time": "2024-09-23T04:50:46.171870",
     "status": "completed"
    },
    "tags": []
   },
   "outputs": [
    {
     "data": {
      "text/plain": [
       "(51717, 17)"
      ]
     },
     "execution_count": 5,
     "metadata": {},
     "output_type": "execute_result"
    }
   ],
   "source": [
    "df.shape"
   ]
  },
  {
   "cell_type": "code",
   "execution_count": 6,
   "id": "4efc3e44",
   "metadata": {
    "execution": {
     "iopub.execute_input": "2024-09-23T04:50:46.222065Z",
     "iopub.status.busy": "2024-09-23T04:50:46.221560Z",
     "iopub.status.idle": "2024-09-23T04:50:46.338311Z",
     "shell.execute_reply": "2024-09-23T04:50:46.337041Z"
    },
    "papermill": {
     "duration": 0.133605,
     "end_time": "2024-09-23T04:50:46.341151",
     "exception": false,
     "start_time": "2024-09-23T04:50:46.207546",
     "status": "completed"
    },
    "tags": []
   },
   "outputs": [
    {
     "name": "stdout",
     "output_type": "stream",
     "text": [
      "<class 'pandas.core.frame.DataFrame'>\n",
      "RangeIndex: 51717 entries, 0 to 51716\n",
      "Data columns (total 17 columns):\n",
      " #   Column                       Non-Null Count  Dtype \n",
      "---  ------                       --------------  ----- \n",
      " 0   url                          51717 non-null  object\n",
      " 1   address                      51717 non-null  object\n",
      " 2   name                         51717 non-null  object\n",
      " 3   online_order                 51717 non-null  object\n",
      " 4   book_table                   51717 non-null  object\n",
      " 5   rate                         43942 non-null  object\n",
      " 6   votes                        51717 non-null  int64 \n",
      " 7   phone                        50509 non-null  object\n",
      " 8   location                     51696 non-null  object\n",
      " 9   rest_type                    51490 non-null  object\n",
      " 10  dish_liked                   23639 non-null  object\n",
      " 11  cuisines                     51672 non-null  object\n",
      " 12  approx_cost(for two people)  51371 non-null  object\n",
      " 13  reviews_list                 51717 non-null  object\n",
      " 14  menu_item                    51717 non-null  object\n",
      " 15  listed_in(type)              51717 non-null  object\n",
      " 16  listed_in(city)              51717 non-null  object\n",
      "dtypes: int64(1), object(16)\n",
      "memory usage: 6.7+ MB\n"
     ]
    }
   ],
   "source": [
    "df.info()"
   ]
  },
  {
   "cell_type": "code",
   "execution_count": 7,
   "id": "3bf20723",
   "metadata": {
    "execution": {
     "iopub.execute_input": "2024-09-23T04:50:46.368496Z",
     "iopub.status.busy": "2024-09-23T04:50:46.368025Z",
     "iopub.status.idle": "2024-09-23T04:50:46.469405Z",
     "shell.execute_reply": "2024-09-23T04:50:46.467958Z"
    },
    "papermill": {
     "duration": 0.118647,
     "end_time": "2024-09-23T04:50:46.472292",
     "exception": false,
     "start_time": "2024-09-23T04:50:46.353645",
     "status": "completed"
    },
    "tags": []
   },
   "outputs": [
    {
     "data": {
      "text/plain": [
       "url                                0\n",
       "address                            0\n",
       "name                               0\n",
       "online_order                       0\n",
       "book_table                         0\n",
       "rate                            7775\n",
       "votes                              0\n",
       "phone                           1208\n",
       "location                          21\n",
       "rest_type                        227\n",
       "dish_liked                     28078\n",
       "cuisines                          45\n",
       "approx_cost(for two people)      346\n",
       "reviews_list                       0\n",
       "menu_item                          0\n",
       "listed_in(type)                    0\n",
       "listed_in(city)                    0\n",
       "dtype: int64"
      ]
     },
     "execution_count": 7,
     "metadata": {},
     "output_type": "execute_result"
    }
   ],
   "source": [
    "df.isnull().sum()"
   ]
  },
  {
   "cell_type": "code",
   "execution_count": 8,
   "id": "dcb4f1cb",
   "metadata": {
    "execution": {
     "iopub.execute_input": "2024-09-23T04:50:46.500987Z",
     "iopub.status.busy": "2024-09-23T04:50:46.499671Z",
     "iopub.status.idle": "2024-09-23T04:50:46.513624Z",
     "shell.execute_reply": "2024-09-23T04:50:46.512361Z"
    },
    "papermill": {
     "duration": 0.03127,
     "end_time": "2024-09-23T04:50:46.516433",
     "exception": false,
     "start_time": "2024-09-23T04:50:46.485163",
     "status": "completed"
    },
    "tags": []
   },
   "outputs": [],
   "source": [
    "## Drop unnecessary columns from the DataFrame\n",
    "df.drop(['address','listed_in(city)','menu_item','url','dish_liked','phone','reviews_list','cuisines'],axis=1,inplace=True)"
   ]
  },
  {
   "cell_type": "code",
   "execution_count": 9,
   "id": "05c23e90",
   "metadata": {
    "execution": {
     "iopub.execute_input": "2024-09-23T04:50:46.543900Z",
     "iopub.status.busy": "2024-09-23T04:50:46.543433Z",
     "iopub.status.idle": "2024-09-23T04:50:46.551159Z",
     "shell.execute_reply": "2024-09-23T04:50:46.550031Z"
    },
    "papermill": {
     "duration": 0.024356,
     "end_time": "2024-09-23T04:50:46.553721",
     "exception": false,
     "start_time": "2024-09-23T04:50:46.529365",
     "status": "completed"
    },
    "tags": []
   },
   "outputs": [
    {
     "data": {
      "text/plain": [
       "Index(['name', 'online_order', 'book_table', 'rate', 'votes', 'location',\n",
       "       'rest_type', 'approx_cost(for two people)', 'listed_in(type)'],\n",
       "      dtype='object')"
      ]
     },
     "execution_count": 9,
     "metadata": {},
     "output_type": "execute_result"
    }
   ],
   "source": [
    "df.columns"
   ]
  },
  {
   "cell_type": "code",
   "execution_count": 10,
   "id": "1586206c",
   "metadata": {
    "execution": {
     "iopub.execute_input": "2024-09-23T04:50:46.581872Z",
     "iopub.status.busy": "2024-09-23T04:50:46.580764Z",
     "iopub.status.idle": "2024-09-23T04:50:46.662095Z",
     "shell.execute_reply": "2024-09-23T04:50:46.660929Z"
    },
    "papermill": {
     "duration": 0.098319,
     "end_time": "2024-09-23T04:50:46.664912",
     "exception": false,
     "start_time": "2024-09-23T04:50:46.566593",
     "status": "completed"
    },
    "tags": []
   },
   "outputs": [],
   "source": [
    "# Drop duplicate rows from the DataFrame\n",
    "df.drop_duplicates(inplace=True)"
   ]
  },
  {
   "cell_type": "code",
   "execution_count": 11,
   "id": "65c417ae",
   "metadata": {
    "execution": {
     "iopub.execute_input": "2024-09-23T04:50:46.694418Z",
     "iopub.status.busy": "2024-09-23T04:50:46.693950Z",
     "iopub.status.idle": "2024-09-23T04:50:46.735592Z",
     "shell.execute_reply": "2024-09-23T04:50:46.734597Z"
    },
    "papermill": {
     "duration": 0.05941,
     "end_time": "2024-09-23T04:50:46.738218",
     "exception": false,
     "start_time": "2024-09-23T04:50:46.678808",
     "status": "completed"
    },
    "tags": []
   },
   "outputs": [],
   "source": [
    "# Drop null values from the DataFrame\n",
    "df.dropna(inplace=True)"
   ]
  },
  {
   "cell_type": "code",
   "execution_count": 12,
   "id": "65a24521",
   "metadata": {
    "execution": {
     "iopub.execute_input": "2024-09-23T04:50:46.766108Z",
     "iopub.status.busy": "2024-09-23T04:50:46.765671Z",
     "iopub.status.idle": "2024-09-23T04:50:46.772278Z",
     "shell.execute_reply": "2024-09-23T04:50:46.770938Z"
    },
    "papermill": {
     "duration": 0.023482,
     "end_time": "2024-09-23T04:50:46.774880",
     "exception": false,
     "start_time": "2024-09-23T04:50:46.751398",
     "status": "completed"
    },
    "tags": []
   },
   "outputs": [],
   "source": [
    "# rename columns\n",
    "df.rename(columns={'approx_cost(for two people)':'bill_of_2plates','listed_in(type)':'type'},inplace=True)"
   ]
  },
  {
   "cell_type": "code",
   "execution_count": 13,
   "id": "a690152d",
   "metadata": {
    "execution": {
     "iopub.execute_input": "2024-09-23T04:50:46.802242Z",
     "iopub.status.busy": "2024-09-23T04:50:46.801782Z",
     "iopub.status.idle": "2024-09-23T04:50:46.812593Z",
     "shell.execute_reply": "2024-09-23T04:50:46.811404Z"
    },
    "papermill": {
     "duration": 0.027339,
     "end_time": "2024-09-23T04:50:46.814964",
     "exception": false,
     "start_time": "2024-09-23T04:50:46.787625",
     "status": "completed"
    },
    "tags": []
   },
   "outputs": [
    {
     "data": {
      "text/plain": [
       "array(['4.1/5', '3.8/5', '3.7/5', '3.6/5', '4.6/5', '4.0/5', '4.2/5',\n",
       "       '3.9/5', '3.1/5', '3.0/5', '3.2/5', '3.3/5', '2.8/5', '4.4/5',\n",
       "       '4.3/5', 'NEW', '2.9/5', '3.5/5', '2.6/5', '3.8 /5', '3.4/5',\n",
       "       '4.5/5', '2.5/5', '2.7/5', '4.7/5', '2.4/5', '2.2/5', '2.3/5',\n",
       "       '3.4 /5', '-', '3.6 /5', '4.8/5', '3.9 /5', '4.2 /5', '4.0 /5',\n",
       "       '4.1 /5', '3.7 /5', '3.1 /5', '2.9 /5', '3.3 /5', '2.8 /5',\n",
       "       '3.5 /5', '2.7 /5', '2.5 /5', '3.2 /5', '2.6 /5', '4.5 /5',\n",
       "       '4.3 /5', '4.4 /5', '4.9/5', '2.1/5', '2.0/5', '1.8/5', '4.6 /5',\n",
       "       '4.9 /5', '3.0 /5', '4.8 /5', '2.3 /5', '4.7 /5', '2.4 /5',\n",
       "       '2.1 /5', '2.2 /5', '2.0 /5', '1.8 /5'], dtype=object)"
      ]
     },
     "execution_count": 13,
     "metadata": {},
     "output_type": "execute_result"
    }
   ],
   "source": [
    "df.rate.unique()"
   ]
  },
  {
   "cell_type": "code",
   "execution_count": 14,
   "id": "c06ecc2f",
   "metadata": {
    "execution": {
     "iopub.execute_input": "2024-09-23T04:50:46.845177Z",
     "iopub.status.busy": "2024-09-23T04:50:46.844430Z",
     "iopub.status.idle": "2024-09-23T04:50:46.912485Z",
     "shell.execute_reply": "2024-09-23T04:50:46.910714Z"
    },
    "papermill": {
     "duration": 0.088153,
     "end_time": "2024-09-23T04:50:46.916121",
     "exception": false,
     "start_time": "2024-09-23T04:50:46.827968",
     "status": "completed"
    },
    "tags": []
   },
   "outputs": [
    {
     "name": "stderr",
     "output_type": "stream",
     "text": [
      "/tmp/ipykernel_17/972488259.py:2: FutureWarning: A value is trying to be set on a copy of a DataFrame or Series through chained assignment using an inplace method.\n",
      "The behavior will change in pandas 3.0. This inplace method will never work because the intermediate object on which we are setting values always behaves as a copy.\n",
      "\n",
      "For example, when doing 'df[col].method(value, inplace=True)', try using 'df.method({col: value}, inplace=True)' or df[col] = df[col].method(value) instead, to perform the operation inplace on the original object.\n",
      "\n",
      "\n",
      "  df['rate'].replace(r'/5', '', regex = True , inplace = True)\n",
      "/tmp/ipykernel_17/972488259.py:3: FutureWarning: A value is trying to be set on a copy of a DataFrame or Series through chained assignment using an inplace method.\n",
      "The behavior will change in pandas 3.0. This inplace method will never work because the intermediate object on which we are setting values always behaves as a copy.\n",
      "\n",
      "For example, when doing 'df[col].method(value, inplace=True)', try using 'df.method({col: value}, inplace=True)' or df[col] = df[col].method(value) instead, to perform the operation inplace on the original object.\n",
      "\n",
      "\n",
      "  df['rate'].replace({'-':np.nan,'NEW':np.nan },inplace=True)\n"
     ]
    }
   ],
   "source": [
    "#replace values\n",
    "df['rate'].replace(r'/5', '', regex = True , inplace = True)\n",
    "df['rate'].replace({'-':np.nan,'NEW':np.nan },inplace=True)"
   ]
  },
  {
   "cell_type": "code",
   "execution_count": 15,
   "id": "1605b8f2",
   "metadata": {
    "execution": {
     "iopub.execute_input": "2024-09-23T04:50:46.948514Z",
     "iopub.status.busy": "2024-09-23T04:50:46.948039Z",
     "iopub.status.idle": "2024-09-23T04:50:46.958947Z",
     "shell.execute_reply": "2024-09-23T04:50:46.957648Z"
    },
    "papermill": {
     "duration": 0.028352,
     "end_time": "2024-09-23T04:50:46.961729",
     "exception": false,
     "start_time": "2024-09-23T04:50:46.933377",
     "status": "completed"
    },
    "tags": []
   },
   "outputs": [
    {
     "data": {
      "text/plain": [
       "array(['800', '300', '600', '700', '550', '500', '450', '650', '400',\n",
       "       '900', '200', '750', '150', '850', '100', '1,200', '350', '250',\n",
       "       '950', '1,000', '1,500', '1,300', '199', '80', '1,100', '160',\n",
       "       '1,600', '230', '130', '1,700', '1,400', '1,350', '2,200', '2,000',\n",
       "       '1,800', '1,900', '180', '330', '2,500', '2,100', '3,000', '2,800',\n",
       "       '3,400', '50', '40', '1,250', '3,500', '4,000', '2,400', '2,600',\n",
       "       '1,450', '70', '3,200', '560', '240', '360', '6,000', '1,050',\n",
       "       '2,300', '4,100', '120', '5,000', '3,700', '1,650', '2,700',\n",
       "       '4,500'], dtype=object)"
      ]
     },
     "execution_count": 15,
     "metadata": {},
     "output_type": "execute_result"
    }
   ],
   "source": [
    "df['bill_of_2plates'].unique()"
   ]
  },
  {
   "cell_type": "code",
   "execution_count": 16,
   "id": "e42d81f4",
   "metadata": {
    "execution": {
     "iopub.execute_input": "2024-09-23T04:50:46.990779Z",
     "iopub.status.busy": "2024-09-23T04:50:46.990239Z",
     "iopub.status.idle": "2024-09-23T04:50:47.028239Z",
     "shell.execute_reply": "2024-09-23T04:50:47.027118Z"
    },
    "papermill": {
     "duration": 0.055749,
     "end_time": "2024-09-23T04:50:47.031272",
     "exception": false,
     "start_time": "2024-09-23T04:50:46.975523",
     "status": "completed"
    },
    "tags": []
   },
   "outputs": [
    {
     "name": "stderr",
     "output_type": "stream",
     "text": [
      "/tmp/ipykernel_17/2660977125.py:1: FutureWarning: A value is trying to be set on a copy of a DataFrame or Series through chained assignment using an inplace method.\n",
      "The behavior will change in pandas 3.0. This inplace method will never work because the intermediate object on which we are setting values always behaves as a copy.\n",
      "\n",
      "For example, when doing 'df[col].method(value, inplace=True)', try using 'df.method({col: value}, inplace=True)' or df[col] = df[col].method(value) instead, to perform the operation inplace on the original object.\n",
      "\n",
      "\n",
      "  df['bill_of_2plates'].replace(',',\"\",regex=True,inplace=True)\n"
     ]
    }
   ],
   "source": [
    "df['bill_of_2plates'].replace(',',\"\",regex=True,inplace=True)"
   ]
  },
  {
   "cell_type": "code",
   "execution_count": 17,
   "id": "1be69b82",
   "metadata": {
    "execution": {
     "iopub.execute_input": "2024-09-23T04:50:47.060082Z",
     "iopub.status.busy": "2024-09-23T04:50:47.059617Z",
     "iopub.status.idle": "2024-09-23T04:50:47.070556Z",
     "shell.execute_reply": "2024-09-23T04:50:47.069310Z"
    },
    "papermill": {
     "duration": 0.028393,
     "end_time": "2024-09-23T04:50:47.073156",
     "exception": false,
     "start_time": "2024-09-23T04:50:47.044763",
     "status": "completed"
    },
    "tags": []
   },
   "outputs": [
    {
     "data": {
      "text/plain": [
       "array(['800', '300', '600', '700', '550', '500', '450', '650', '400',\n",
       "       '900', '200', '750', '150', '850', '100', '1200', '350', '250',\n",
       "       '950', '1000', '1500', '1300', '199', '80', '1100', '160', '1600',\n",
       "       '230', '130', '1700', '1400', '1350', '2200', '2000', '1800',\n",
       "       '1900', '180', '330', '2500', '2100', '3000', '2800', '3400', '50',\n",
       "       '40', '1250', '3500', '4000', '2400', '2600', '1450', '70', '3200',\n",
       "       '560', '240', '360', '6000', '1050', '2300', '4100', '120', '5000',\n",
       "       '3700', '1650', '2700', '4500'], dtype=object)"
      ]
     },
     "execution_count": 17,
     "metadata": {},
     "output_type": "execute_result"
    }
   ],
   "source": [
    "df['bill_of_2plates'].unique()"
   ]
  },
  {
   "cell_type": "code",
   "execution_count": 18,
   "id": "361bddbd",
   "metadata": {
    "execution": {
     "iopub.execute_input": "2024-09-23T04:50:47.103285Z",
     "iopub.status.busy": "2024-09-23T04:50:47.102858Z",
     "iopub.status.idle": "2024-09-23T04:50:47.112256Z",
     "shell.execute_reply": "2024-09-23T04:50:47.110991Z"
    },
    "papermill": {
     "duration": 0.027407,
     "end_time": "2024-09-23T04:50:47.114794",
     "exception": false,
     "start_time": "2024-09-23T04:50:47.087387",
     "status": "completed"
    },
    "tags": []
   },
   "outputs": [
    {
     "data": {
      "text/plain": [
       "name               object\n",
       "online_order       object\n",
       "book_table         object\n",
       "rate               object\n",
       "votes               int64\n",
       "location           object\n",
       "rest_type          object\n",
       "bill_of_2plates    object\n",
       "type               object\n",
       "dtype: object"
      ]
     },
     "execution_count": 18,
     "metadata": {},
     "output_type": "execute_result"
    }
   ],
   "source": [
    "df.dtypes"
   ]
  },
  {
   "cell_type": "code",
   "execution_count": 19,
   "id": "62d2decd",
   "metadata": {
    "execution": {
     "iopub.execute_input": "2024-09-23T04:50:47.144742Z",
     "iopub.status.busy": "2024-09-23T04:50:47.143738Z",
     "iopub.status.idle": "2024-09-23T04:50:47.162681Z",
     "shell.execute_reply": "2024-09-23T04:50:47.161103Z"
    },
    "papermill": {
     "duration": 0.036672,
     "end_time": "2024-09-23T04:50:47.165310",
     "exception": false,
     "start_time": "2024-09-23T04:50:47.128638",
     "status": "completed"
    },
    "tags": []
   },
   "outputs": [],
   "source": [
    "#Change data type\n",
    "df['bill_of_2plates']=df['bill_of_2plates'].astype(int)\n",
    "df['rate']=df['rate'].astype(float)"
   ]
  },
  {
   "cell_type": "code",
   "execution_count": 20,
   "id": "cf8b2289",
   "metadata": {
    "execution": {
     "iopub.execute_input": "2024-09-23T04:50:47.194041Z",
     "iopub.status.busy": "2024-09-23T04:50:47.193571Z",
     "iopub.status.idle": "2024-09-23T04:50:47.236180Z",
     "shell.execute_reply": "2024-09-23T04:50:47.234737Z"
    },
    "papermill": {
     "duration": 0.060162,
     "end_time": "2024-09-23T04:50:47.239023",
     "exception": false,
     "start_time": "2024-09-23T04:50:47.178861",
     "status": "completed"
    },
    "tags": []
   },
   "outputs": [
    {
     "data": {
      "text/html": [
       "<div>\n",
       "<style scoped>\n",
       "    .dataframe tbody tr th:only-of-type {\n",
       "        vertical-align: middle;\n",
       "    }\n",
       "\n",
       "    .dataframe tbody tr th {\n",
       "        vertical-align: top;\n",
       "    }\n",
       "\n",
       "    .dataframe thead th {\n",
       "        text-align: right;\n",
       "    }\n",
       "</style>\n",
       "<table border=\"1\" class=\"dataframe\">\n",
       "  <thead>\n",
       "    <tr style=\"text-align: right;\">\n",
       "      <th></th>\n",
       "      <th></th>\n",
       "      <th>rate</th>\n",
       "    </tr>\n",
       "    <tr>\n",
       "      <th>location</th>\n",
       "      <th>name</th>\n",
       "      <th></th>\n",
       "    </tr>\n",
       "  </thead>\n",
       "  <tbody>\n",
       "    <tr>\n",
       "      <th rowspan=\"5\" valign=\"top\">BTM</th>\n",
       "      <th>100ÃÂÃÂÃÂÃÂÃÂÃÂÃÂÃÂ°C</th>\n",
       "      <td>3.70</td>\n",
       "    </tr>\n",
       "    <tr>\n",
       "      <th>2nd Home Restaurant</th>\n",
       "      <td>3.70</td>\n",
       "    </tr>\n",
       "    <tr>\n",
       "      <th>36th Cross Coffee Mane</th>\n",
       "      <td>3.70</td>\n",
       "    </tr>\n",
       "    <tr>\n",
       "      <th>3B's - Buddies, Bar &amp; Barbecues</th>\n",
       "      <td>4.40</td>\n",
       "    </tr>\n",
       "    <tr>\n",
       "      <th>A2B - Adyar Ananda Bhavan</th>\n",
       "      <td>4.12</td>\n",
       "    </tr>\n",
       "    <tr>\n",
       "      <th>...</th>\n",
       "      <th>...</th>\n",
       "      <td>...</td>\n",
       "    </tr>\n",
       "    <tr>\n",
       "      <th rowspan=\"5\" valign=\"top\">Yeshwantpur</th>\n",
       "      <th>The Cupcake Story</th>\n",
       "      <td>3.50</td>\n",
       "    </tr>\n",
       "    <tr>\n",
       "      <th>The Duke Of Juices</th>\n",
       "      <td>3.30</td>\n",
       "    </tr>\n",
       "    <tr>\n",
       "      <th>Tuckinto</th>\n",
       "      <td>3.80</td>\n",
       "    </tr>\n",
       "    <tr>\n",
       "      <th>Udupi Garden</th>\n",
       "      <td>3.00</td>\n",
       "    </tr>\n",
       "    <tr>\n",
       "      <th>Zam Zam Kabab House</th>\n",
       "      <td>3.40</td>\n",
       "    </tr>\n",
       "  </tbody>\n",
       "</table>\n",
       "<p>9883 rows × 1 columns</p>\n",
       "</div>"
      ],
      "text/plain": [
       "                                                  rate\n",
       "location    name                                      \n",
       "BTM         100ÃÂÃÂÃÂÃÂÃÂÃÂÃÂÃÂ°C  3.70\n",
       "            2nd Home Restaurant                   3.70\n",
       "            36th Cross Coffee Mane                3.70\n",
       "            3B's - Buddies, Bar & Barbecues       4.40\n",
       "            A2B - Adyar Ananda Bhavan             4.12\n",
       "...                                                ...\n",
       "Yeshwantpur The Cupcake Story                     3.50\n",
       "            The Duke Of Juices                    3.30\n",
       "            Tuckinto                              3.80\n",
       "            Udupi Garden                          3.00\n",
       "            Zam Zam Kabab House                   3.40\n",
       "\n",
       "[9883 rows x 1 columns]"
      ]
     },
     "execution_count": 20,
     "metadata": {},
     "output_type": "execute_result"
    }
   ],
   "source": [
    "# Group the DataFrame by location and restaurant name, and calculate the average rating for each group\n",
    "df.groupby(['location','name']).agg({'rate':'mean'})"
   ]
  },
  {
   "cell_type": "code",
   "execution_count": 21,
   "id": "abd1026d",
   "metadata": {
    "execution": {
     "iopub.execute_input": "2024-09-23T04:50:47.271348Z",
     "iopub.status.busy": "2024-09-23T04:50:47.270353Z",
     "iopub.status.idle": "2024-09-23T04:50:47.316680Z",
     "shell.execute_reply": "2024-09-23T04:50:47.315246Z"
    },
    "papermill": {
     "duration": 0.065445,
     "end_time": "2024-09-23T04:50:47.319404",
     "exception": false,
     "start_time": "2024-09-23T04:50:47.253959",
     "status": "completed"
    },
    "tags": []
   },
   "outputs": [
    {
     "data": {
      "text/html": [
       "<div>\n",
       "<style scoped>\n",
       "    .dataframe tbody tr th:only-of-type {\n",
       "        vertical-align: middle;\n",
       "    }\n",
       "\n",
       "    .dataframe tbody tr th {\n",
       "        vertical-align: top;\n",
       "    }\n",
       "\n",
       "    .dataframe thead tr th {\n",
       "        text-align: left;\n",
       "    }\n",
       "\n",
       "    .dataframe thead tr:last-of-type th {\n",
       "        text-align: right;\n",
       "    }\n",
       "</style>\n",
       "<table border=\"1\" class=\"dataframe\">\n",
       "  <thead>\n",
       "    <tr>\n",
       "      <th></th>\n",
       "      <th></th>\n",
       "      <th colspan=\"3\" halign=\"left\">bill_of_2plates</th>\n",
       "    </tr>\n",
       "    <tr>\n",
       "      <th></th>\n",
       "      <th></th>\n",
       "      <th>mean</th>\n",
       "      <th>min</th>\n",
       "      <th>max</th>\n",
       "    </tr>\n",
       "    <tr>\n",
       "      <th>location</th>\n",
       "      <th>name</th>\n",
       "      <th></th>\n",
       "      <th></th>\n",
       "      <th></th>\n",
       "    </tr>\n",
       "  </thead>\n",
       "  <tbody>\n",
       "    <tr>\n",
       "      <th rowspan=\"5\" valign=\"top\">BTM</th>\n",
       "      <th>100ÃÂÃÂÃÂÃÂÃÂÃÂÃÂÃÂ°C</th>\n",
       "      <td>450.0</td>\n",
       "      <td>450</td>\n",
       "      <td>450</td>\n",
       "    </tr>\n",
       "    <tr>\n",
       "      <th>2nd Home Restaurant</th>\n",
       "      <td>500.0</td>\n",
       "      <td>500</td>\n",
       "      <td>500</td>\n",
       "    </tr>\n",
       "    <tr>\n",
       "      <th>36th Cross Coffee Mane</th>\n",
       "      <td>500.0</td>\n",
       "      <td>500</td>\n",
       "      <td>500</td>\n",
       "    </tr>\n",
       "    <tr>\n",
       "      <th>3B's - Buddies, Bar &amp; Barbecues</th>\n",
       "      <td>1100.0</td>\n",
       "      <td>1100</td>\n",
       "      <td>1100</td>\n",
       "    </tr>\n",
       "    <tr>\n",
       "      <th>A2B - Adyar Ananda Bhavan</th>\n",
       "      <td>240.0</td>\n",
       "      <td>200</td>\n",
       "      <td>400</td>\n",
       "    </tr>\n",
       "    <tr>\n",
       "      <th>...</th>\n",
       "      <th>...</th>\n",
       "      <td>...</td>\n",
       "      <td>...</td>\n",
       "      <td>...</td>\n",
       "    </tr>\n",
       "    <tr>\n",
       "      <th rowspan=\"5\" valign=\"top\">Yeshwantpur</th>\n",
       "      <th>The Cupcake Story</th>\n",
       "      <td>300.0</td>\n",
       "      <td>300</td>\n",
       "      <td>300</td>\n",
       "    </tr>\n",
       "    <tr>\n",
       "      <th>The Duke Of Juices</th>\n",
       "      <td>200.0</td>\n",
       "      <td>200</td>\n",
       "      <td>200</td>\n",
       "    </tr>\n",
       "    <tr>\n",
       "      <th>Tuckinto</th>\n",
       "      <td>400.0</td>\n",
       "      <td>400</td>\n",
       "      <td>400</td>\n",
       "    </tr>\n",
       "    <tr>\n",
       "      <th>Udupi Garden</th>\n",
       "      <td>300.0</td>\n",
       "      <td>300</td>\n",
       "      <td>300</td>\n",
       "    </tr>\n",
       "    <tr>\n",
       "      <th>Zam Zam Kabab House</th>\n",
       "      <td>300.0</td>\n",
       "      <td>300</td>\n",
       "      <td>300</td>\n",
       "    </tr>\n",
       "  </tbody>\n",
       "</table>\n",
       "<p>9883 rows × 3 columns</p>\n",
       "</div>"
      ],
      "text/plain": [
       "                                                 bill_of_2plates            \n",
       "                                                            mean   min   max\n",
       "location    name                                                            \n",
       "BTM         100ÃÂÃÂÃÂÃÂÃÂÃÂÃÂÃÂ°C           450.0   450   450\n",
       "            2nd Home Restaurant                            500.0   500   500\n",
       "            36th Cross Coffee Mane                         500.0   500   500\n",
       "            3B's - Buddies, Bar & Barbecues               1100.0  1100  1100\n",
       "            A2B - Adyar Ananda Bhavan                      240.0   200   400\n",
       "...                                                          ...   ...   ...\n",
       "Yeshwantpur The Cupcake Story                              300.0   300   300\n",
       "            The Duke Of Juices                             200.0   200   200\n",
       "            Tuckinto                                       400.0   400   400\n",
       "            Udupi Garden                                   300.0   300   300\n",
       "            Zam Zam Kabab House                            300.0   300   300\n",
       "\n",
       "[9883 rows x 3 columns]"
      ]
     },
     "execution_count": 21,
     "metadata": {},
     "output_type": "execute_result"
    }
   ],
   "source": [
    "#detect min and max price of 2_plates in restaurant.\n",
    "df.groupby(['location','name']).agg({'bill_of_2plates':['mean','min','max']})"
   ]
  },
  {
   "cell_type": "markdown",
   "id": "1543524f",
   "metadata": {
    "execution": {
     "iopub.execute_input": "2024-09-20T06:32:48.461941Z",
     "iopub.status.busy": "2024-09-20T06:32:48.461391Z",
     "iopub.status.idle": "2024-09-20T06:32:48.469353Z",
     "shell.execute_reply": "2024-09-20T06:32:48.467949Z",
     "shell.execute_reply.started": "2024-09-20T06:32:48.461896Z"
    },
    "papermill": {
     "duration": 0.013891,
     "end_time": "2024-09-23T04:50:47.347650",
     "exception": false,
     "start_time": "2024-09-23T04:50:47.333759",
     "status": "completed"
    },
    "tags": []
   },
   "source": [
    "# **Visualization**"
   ]
  },
  {
   "cell_type": "code",
   "execution_count": 22,
   "id": "c315f764",
   "metadata": {
    "execution": {
     "iopub.execute_input": "2024-09-23T04:50:47.378580Z",
     "iopub.status.busy": "2024-09-23T04:50:47.377990Z",
     "iopub.status.idle": "2024-09-23T04:50:47.715552Z",
     "shell.execute_reply": "2024-09-23T04:50:47.714365Z"
    },
    "papermill": {
     "duration": 0.356215,
     "end_time": "2024-09-23T04:50:47.718274",
     "exception": false,
     "start_time": "2024-09-23T04:50:47.362059",
     "status": "completed"
    },
    "tags": []
   },
   "outputs": [
    {
     "data": {
      "image/png": "[encoded data removed]",
      "text/plain": [
       "<Figure size 640x480 with 1 Axes>"
      ]
     },
     "metadata": {},
     "output_type": "display_data"
    }
   ],
   "source": [
    "ax=sns.countplot(data=df,x='online_order')\n",
    "for bars in ax.containers:\n",
    "    ax.bar_label(bars)"
   ]
  },
  {
   "cell_type": "markdown",
   "id": "865bd303",
   "metadata": {
    "papermill": {
     "duration": 0.015575,
     "end_time": "2024-09-23T04:50:47.748970",
     "exception": false,
     "start_time": "2024-09-23T04:50:47.733395",
     "status": "completed"
    },
    "tags": []
   },
   "source": [
    "**From the above graph, we can see that most restaurants take online orders.**\n",
    "\n"
   ]
  },
  {
   "cell_type": "code",
   "execution_count": 23,
   "id": "1fb545b4",
   "metadata": {
    "execution": {
     "iopub.execute_input": "2024-09-23T04:50:47.780471Z",
     "iopub.status.busy": "2024-09-23T04:50:47.779991Z",
     "iopub.status.idle": "2024-09-23T04:50:48.053634Z",
     "shell.execute_reply": "2024-09-23T04:50:48.052450Z"
    },
    "papermill": {
     "duration": 0.292502,
     "end_time": "2024-09-23T04:50:48.056312",
     "exception": false,
     "start_time": "2024-09-23T04:50:47.763810",
     "status": "completed"
    },
    "tags": []
   },
   "outputs": [
    {
     "data": {
      "image/png": "[encoded data removed]",
      "text/plain": [
       "<Figure size 640x480 with 1 Axes>"
      ]
     },
     "metadata": {},
     "output_type": "display_data"
    }
   ],
   "source": [
    "ax=sns.countplot(data=df,x='book_table')\n",
    "for bars in ax.containers:\n",
    "    ax.bar_label(bars)"
   ]
  },
  {
   "cell_type": "markdown",
   "id": "e6ebe944",
   "metadata": {
    "papermill": {
     "duration": 0.014881,
     "end_time": "2024-09-23T04:50:48.086682",
     "exception": false,
     "start_time": "2024-09-23T04:50:48.071801",
     "status": "completed"
    },
    "tags": []
   },
   "source": [
    "**most of restaurants do not allow for table booking.**"
   ]
  },
  {
   "cell_type": "code",
   "execution_count": 24,
   "id": "2b778a8e",
   "metadata": {
    "execution": {
     "iopub.execute_input": "2024-09-23T04:50:48.119067Z",
     "iopub.status.busy": "2024-09-23T04:50:48.118591Z",
     "iopub.status.idle": "2024-09-23T04:50:48.838714Z",
     "shell.execute_reply": "2024-09-23T04:50:48.837490Z"
    },
    "papermill": {
     "duration": 0.739294,
     "end_time": "2024-09-23T04:50:48.841517",
     "exception": false,
     "start_time": "2024-09-23T04:50:48.102223",
     "status": "completed"
    },
    "tags": []
   },
   "outputs": [
    {
     "data": {
      "image/png": "[encoded data removed]",
      "text/plain": [
       "<Figure size 640x480 with 1 Axes>"
      ]
     },
     "metadata": {},
     "output_type": "display_data"
    }
   ],
   "source": [
    "ax=sns.barplot(data=df, x='book_table', y='rate')\n",
    "for bars in ax.containers:\n",
    "    ax.bar_label(bars)"
   ]
  },
  {
   "cell_type": "markdown",
   "id": "a08d30e4",
   "metadata": {
    "papermill": {
     "duration": 0.015456,
     "end_time": "2024-09-23T04:50:48.872651",
     "exception": false,
     "start_time": "2024-09-23T04:50:48.857195",
     "status": "completed"
    },
    "tags": []
   },
   "source": [
    "**restaurants that offer table booking table to have higher ratings**"
   ]
  },
  {
   "cell_type": "code",
   "execution_count": 25,
   "id": "60910c9d",
   "metadata": {
    "execution": {
     "iopub.execute_input": "2024-09-23T04:50:48.905409Z",
     "iopub.status.busy": "2024-09-23T04:50:48.904943Z",
     "iopub.status.idle": "2024-09-23T04:50:49.273264Z",
     "shell.execute_reply": "2024-09-23T04:50:49.271941Z"
    },
    "papermill": {
     "duration": 0.387755,
     "end_time": "2024-09-23T04:50:49.275777",
     "exception": false,
     "start_time": "2024-09-23T04:50:48.888022",
     "status": "completed"
    },
    "tags": []
   },
   "outputs": [
    {
     "data": {
      "text/plain": [
       "(array([0, 1, 2, 3, 4, 5, 6, 7, 8, 9]),\n",
       " [Text(0, 0, 'BTM'),\n",
       "  Text(1, 0, 'Indiranagar'),\n",
       "  Text(2, 0, 'Whitefield'),\n",
       "  Text(3, 0, 'Koramangala 5th Block'),\n",
       "  Text(4, 0, 'HSR'),\n",
       "  Text(5, 0, 'Marathahalli'),\n",
       "  Text(6, 0, 'JP Nagar'),\n",
       "  Text(7, 0, 'Jayanagar'),\n",
       "  Text(8, 0, 'Bellandur'),\n",
       "  Text(9, 0, 'Electronic City')])"
      ]
     },
     "execution_count": 25,
     "metadata": {},
     "output_type": "execute_result"
    },
    {
     "data": {
      "image/png": "[encoded data removed]",
      "text/plain": [
       "<Figure size 1200x400 with 1 Axes>"
      ]
     },
     "metadata": {},
     "output_type": "display_data"
    }
   ],
   "source": [
    "#top 10 location where the higher no. of restront\n",
    "plt.figure(figsize=(12,4))\n",
    "sns.countplot(x='location',data=df,order=df['location'].value_counts().index[:10])\n",
    "plt.xticks(rotation=35)"
   ]
  },
  {
   "cell_type": "code",
   "execution_count": 26,
   "id": "92e35ea8",
   "metadata": {
    "execution": {
     "iopub.execute_input": "2024-09-23T04:50:49.310521Z",
     "iopub.status.busy": "2024-09-23T04:50:49.309958Z",
     "iopub.status.idle": "2024-09-23T04:50:49.654778Z",
     "shell.execute_reply": "2024-09-23T04:50:49.653650Z"
    },
    "papermill": {
     "duration": 0.365131,
     "end_time": "2024-09-23T04:50:49.657428",
     "exception": false,
     "start_time": "2024-09-23T04:50:49.292297",
     "status": "completed"
    },
    "tags": []
   },
   "outputs": [
    {
     "data": {
      "text/plain": [
       "<Axes: xlabel='type', ylabel='count'>"
      ]
     },
     "execution_count": 26,
     "metadata": {},
     "output_type": "execute_result"
    },
    {
     "data": {
      "image/png": "[encoded data removed]",
      "text/plain": [
       "<Figure size 1200x400 with 1 Axes>"
      ]
     },
     "metadata": {},
     "output_type": "display_data"
    }
   ],
   "source": [
    "plt.figure(figsize=(12,4))\n",
    "sns.countplot(data=df,x='type')"
   ]
  },
  {
   "cell_type": "markdown",
   "id": "310292a6",
   "metadata": {
    "papermill": {
     "duration": 0.016768,
     "end_time": "2024-09-23T04:50:49.691358",
     "exception": false,
     "start_time": "2024-09-23T04:50:49.674590",
     "status": "completed"
    },
    "tags": []
   },
   "source": [
    "**customer likes the restaurants which have delivery\" and \"dineout\" service option.**"
   ]
  },
  {
   "cell_type": "code",
   "execution_count": 27,
   "id": "15da3066",
   "metadata": {
    "execution": {
     "iopub.execute_input": "2024-09-23T04:50:49.727929Z",
     "iopub.status.busy": "2024-09-23T04:50:49.727344Z",
     "iopub.status.idle": "2024-09-23T04:50:50.209313Z",
     "shell.execute_reply": "2024-09-23T04:50:50.207937Z"
    },
    "papermill": {
     "duration": 0.504355,
     "end_time": "2024-09-23T04:50:50.212555",
     "exception": false,
     "start_time": "2024-09-23T04:50:49.708200",
     "status": "completed"
    },
    "tags": []
   },
   "outputs": [
    {
     "data": {
      "text/plain": [
       "(array([0, 1, 2, 3, 4, 5, 6, 7, 8, 9]),\n",
       " [Text(0, 0, 'Koramangala 5th Block'),\n",
       "  Text(1, 0, 'MG Road'),\n",
       "  Text(2, 0, 'Lavelle Road'),\n",
       "  Text(3, 0, 'Church Street'),\n",
       "  Text(4, 0, 'Residency Road'),\n",
       "  Text(5, 0, 'St. Marks Road'),\n",
       "  Text(6, 0, 'Cunningham Road'),\n",
       "  Text(7, 0, 'Koramangala 3rd Block'),\n",
       "  Text(8, 0, 'Koramangala 4th Block'),\n",
       "  Text(9, 0, 'Sankey Road')])"
      ]
     },
     "execution_count": 27,
     "metadata": {},
     "output_type": "execute_result"
    },
    {
     "data": {
      "image/png": "[encoded data removed]",
      "text/plain": [
       "<Figure size 1200x400 with 1 Axes>"
      ]
     },
     "metadata": {},
     "output_type": "display_data"
    }
   ],
   "source": [
    "top_locations = df.groupby('location')['rate'].mean().sort_values(ascending=False).head(10)\n",
    "plt.figure(figsize=(12, 4))\n",
    "top_location_names = top_locations.index\n",
    "filtered_df = df[df['location'].isin(top_location_names)]\n",
    "\n",
    "sns.boxplot(x='location', y='rate', data=filtered_df)\n",
    "plt.xticks(rotation=45)"
   ]
  },
  {
   "cell_type": "markdown",
   "id": "fb5a32e4",
   "metadata": {
    "execution": {
     "iopub.execute_input": "2024-09-20T11:56:53.056656Z",
     "iopub.status.busy": "2024-09-20T11:56:53.056196Z",
     "iopub.status.idle": "2024-09-20T11:56:53.064830Z",
     "shell.execute_reply": "2024-09-20T11:56:53.063192Z",
     "shell.execute_reply.started": "2024-09-20T11:56:53.056613Z"
    },
    "papermill": {
     "duration": 0.018668,
     "end_time": "2024-09-23T04:50:50.250250",
     "exception": false,
     "start_time": "2024-09-23T04:50:50.231582",
     "status": "completed"
    },
    "tags": []
   },
   "source": [
    "**all locations have rating lies betwen 3.5 to 4.5, which most of the restaurants have rating 3.5 to 4.5.**"
   ]
  },
  {
   "cell_type": "code",
   "execution_count": 28,
   "id": "a8a6fd48",
   "metadata": {
    "execution": {
     "iopub.execute_input": "2024-09-23T04:50:50.291134Z",
     "iopub.status.busy": "2024-09-23T04:50:50.289971Z",
     "iopub.status.idle": "2024-09-23T04:50:50.675027Z",
     "shell.execute_reply": "2024-09-23T04:50:50.673765Z"
    },
    "papermill": {
     "duration": 0.409262,
     "end_time": "2024-09-23T04:50:50.678450",
     "exception": false,
     "start_time": "2024-09-23T04:50:50.269188",
     "status": "completed"
    },
    "tags": []
   },
   "outputs": [
    {
     "data": {
      "text/plain": [
       "(array([0, 1, 2, 3, 4, 5, 6, 7, 8, 9]),\n",
       " [Text(0, 0, 'Lavelle Road'),\n",
       "  Text(1, 0, 'St. Marks Road'),\n",
       "  Text(2, 0, 'Koramangala 5th Block'),\n",
       "  Text(3, 0, 'Church Street'),\n",
       "  Text(4, 0, 'Koramangala 3rd Block'),\n",
       "  Text(5, 0, 'Sankey Road'),\n",
       "  Text(6, 0, 'Koramangala 4th Block'),\n",
       "  Text(7, 0, 'Cunningham Road'),\n",
       "  Text(8, 0, 'MG Road'),\n",
       "  Text(9, 0, 'Residency Road')])"
      ]
     },
     "execution_count": 28,
     "metadata": {},
     "output_type": "execute_result"
    },
    {
     "data": {
      "image/png": "[encoded data removed]",
      "text/plain": [
       "<Figure size 1200x400 with 1 Axes>"
      ]
     },
     "metadata": {},
     "output_type": "display_data"
    }
   ],
   "source": [
    "# top 10 restront location which have higher rating\n",
    "plt.figure(figsize=(12,4))\n",
    "top_locations = df.groupby('location')['rate'].mean().sort_values(ascending=False).head(10)\n",
    "sns.barplot(x=top_locations.index, y=top_locations.values)\n",
    "plt.xticks(rotation=45)"
   ]
  },
  {
   "cell_type": "code",
   "execution_count": 29,
   "id": "53584a06",
   "metadata": {
    "execution": {
     "iopub.execute_input": "2024-09-23T04:50:50.719312Z",
     "iopub.status.busy": "2024-09-23T04:50:50.718867Z",
     "iopub.status.idle": "2024-09-23T04:50:51.776606Z",
     "shell.execute_reply": "2024-09-23T04:50:51.775330Z"
    },
    "papermill": {
     "duration": 1.080827,
     "end_time": "2024-09-23T04:50:51.779225",
     "exception": false,
     "start_time": "2024-09-23T04:50:50.698398",
     "status": "completed"
    },
    "tags": []
   },
   "outputs": [
    {
     "data": {
      "text/plain": [
       "<Axes: xlabel='type', ylabel='rate'>"
      ]
     },
     "execution_count": 29,
     "metadata": {},
     "output_type": "execute_result"
    },
    {
     "data": {
      "image/png": "[encoded data removed]",
      "text/plain": [
       "<Figure size 1200x400 with 1 Axes>"
      ]
     },
     "metadata": {},
     "output_type": "display_data"
    }
   ],
   "source": [
    "plt.figure(figsize=(12,4))\n",
    "sns.barplot(data=df,x='type',y='rate')"
   ]
  },
  {
   "cell_type": "code",
   "execution_count": 30,
   "id": "25abc924",
   "metadata": {
    "execution": {
     "iopub.execute_input": "2024-09-23T04:50:51.822131Z",
     "iopub.status.busy": "2024-09-23T04:50:51.821671Z",
     "iopub.status.idle": "2024-09-23T04:50:52.187826Z",
     "shell.execute_reply": "2024-09-23T04:50:52.186592Z"
    },
    "papermill": {
     "duration": 0.391061,
     "end_time": "2024-09-23T04:50:52.190449",
     "exception": false,
     "start_time": "2024-09-23T04:50:51.799388",
     "status": "completed"
    },
    "tags": []
   },
   "outputs": [
    {
     "name": "stderr",
     "output_type": "stream",
     "text": [
      "/opt/conda/lib/python3.10/site-packages/seaborn/_oldcore.py:1119: FutureWarning: use_inf_as_na option is deprecated and will be removed in a future version. Convert inf values to NaN before operating instead.\n",
      "  with pd.option_context('mode.use_inf_as_na', True):\n"
     ]
    },
    {
     "data": {
      "text/plain": [
       "(<Axes: xlabel='bill_of_2plates', ylabel='Count'>,)"
      ]
     },
     "execution_count": 30,
     "metadata": {},
     "output_type": "execute_result"
    },
    {
     "data": {
      "image/png": "[encoded data removed]",
      "text/plain": [
       "<Figure size 640x480 with 1 Axes>"
      ]
     },
     "metadata": {},
     "output_type": "display_data"
    }
   ],
   "source": [
    "sns.histplot(data=df,x='bill_of_2plates',bins=30),#order=df['location'].value_counts().index[:10])"
   ]
  },
  {
   "cell_type": "markdown",
   "id": "259aa119",
   "metadata": {
    "papermill": {
     "duration": 0.020178,
     "end_time": "2024-09-23T04:50:52.231063",
     "exception": false,
     "start_time": "2024-09-23T04:50:52.210885",
     "status": "completed"
    },
    "tags": []
   },
   "source": [
    "**most of the restront bill of two people lies in between 250-750rs.**"
   ]
  },
  {
   "cell_type": "code",
   "execution_count": null,
   "id": "410f0252",
   "metadata": {
    "papermill": {
     "duration": 0.019878,
     "end_time": "2024-09-23T04:50:52.271496",
     "exception": false,
     "start_time": "2024-09-23T04:50:52.251618",
     "status": "completed"
    },
    "tags": []
   },
   "outputs": [],
   "source": []
  }
 ],
 "metadata": {
  "kaggle": {
   "accelerator": "none",
   "dataSources": [
    {
     "datasetId": 2587567,
     "sourceId": 4416866,
     "sourceType": "datasetVersion"
    }
   ],
   "dockerImageVersionId": 30761,
   "isGpuEnabled": false,
   "isInternetEnabled": false,
   "language": "python",
   "sourceType": "notebook"
  },
  "kernelspec": {
   "display_name": "Python 3",
   "language": "python",
   "name": "python3"
  },
  "language_info": {
   "codemirror_mode": {
    "name": "ipython",
    "version": 3
   },
   "file_extension": ".py",
   "mimetype": "text/x-python",
   "name": "python",
   "nbconvert_exporter": "python",
   "pygments_lexer": "ipython3",
   "version": "3.10.14"
  },
  "papermill": {
   "default_parameters": {},
   "duration": 25.932762,
   "end_time": "2024-09-23T04:50:53.014348",
   "environment_variables": {},
   "exception": null,
   "input_path": "__notebook__.ipynb",
   "output_path": "__notebook__.ipynb",
   "parameters": {},
   "start_time": "2024-09-23T04:50:27.081586",
   "version": "2.6.0"
  }
 },
 "nbformat": 4,
 "nbformat_minor": 5
}
